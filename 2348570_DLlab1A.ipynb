{
  "nbformat": 4,
  "nbformat_minor": 0,
  "metadata": {
    "colab": {
      "provenance": [],
      "authorship_tag": "ABX9TyPZ3YvyGklSiGBL/Xkb28Jq",
      "include_colab_link": true
    },
    "kernelspec": {
      "name": "python3",
      "display_name": "Python 3"
    },
    "language_info": {
      "name": "python"
    }
  },
  "cells": [
    {
      "cell_type": "markdown",
      "metadata": {
        "id": "view-in-github",
        "colab_type": "text"
      },
      "source": [
        "<a href=\"https://colab.research.google.com/github/victorjoseij/deeplearning/blob/main/2348570_DLlab1A.ipynb\" target=\"_parent\"><img src=\"https://colab.research.google.com/assets/colab-badge.svg\" alt=\"Open In Colab\"/></a>"
      ]
    },
    {
      "cell_type": "code",
      "execution_count": 1,
      "metadata": {
        "id": "d5ENf-7w_ElZ"
      },
      "outputs": [],
      "source": [
        "# import the necessary packages\n",
        "import numpy as np\n",
        "\n",
        "class Perceptron:\n",
        "    def __init__(self, N, alpha=0.1):\n",
        "        # initialize the weight matric and store the learning rate\n",
        "        self.W = np.random.randn(N + 1) / np.sqrt(N)\n",
        "        self.alpha = alpha\n",
        "\n",
        "    def step(self, x):\n",
        "        # apply the step function\n",
        "        return 1 if x > 0 else 0\n",
        "\n",
        "    def fit(self, X, y, epochs=10):\n",
        "        # insert a  column of 1's as the last entry in the feature matrix\n",
        "        # this little trick allows us to treat the bias\n",
        "        # as a trainable parameter within the weight matrix\n",
        "        X = np.c_[X, np.ones((X.shape[0]))]\n",
        "        # loop over the desired number of epochs\n",
        "        for epoch in np.arange(0, epochs):\n",
        "            # loop over each individual data point\n",
        "            for(x, target) in zip(X, y):\n",
        "                # take the dot product between the input features\n",
        "                # and the weight matrix, then pass this value\n",
        "                # through the step function to obtain the prediction\n",
        "                p = self.step(np.dot(x, self.W))\n",
        "\n",
        "                # only perform weight update if our prediction\n",
        "                # does not match the target\n",
        "                if p!=target:\n",
        "                    # determine the error\n",
        "                    error = p - target\n",
        "\n",
        "                    # update the weight matrix\n",
        "                    self.W += -self.alpha * error * x\n",
        "\n",
        "    def predict(self, X, addBias=True):\n",
        "        # ensure our input is a matrix\n",
        "        X = np.atleast_2d(X)\n",
        "\n",
        "        # check to see if the bias column should be added\n",
        "        if addBias:\n",
        "            # insert a column of 1's as the last entry in the feature\n",
        "            # matrix (bias)\n",
        "            X = np.c_[X, np.ones((X.shape[0]))]\n",
        "\n",
        "        # take the dot product between the input features and the\n",
        "        # weight matrix, then pass the value through the step function\n",
        "        return self.step(np.dot(X, self.W))\n",
        "\n",
        "    #train function is used to optimize the input weights\n",
        "    def train(self, X, y, epochs=10):\n",
        "        self.fit(X, y, epochs)"
      ]
    },
    {
      "cell_type": "code",
      "source": [
        "#OR\n",
        "\n",
        "# import the necessary packages\n",
        "import numpy as np\n",
        "\n",
        "# construct the OR dataset\n",
        "X = np.array([[0,0],[0,1],[1,0],[1,1]])\n",
        "y = np.array([[0],[1],[1],[1]])\n",
        "\n",
        "print(\"BEFORE OPTIMIZATION:\")\n",
        "# define our perceptron and train it\n",
        "print(\"[INFO] training perceptron...\")\n",
        "p = Perceptron(X.shape[1], alpha=0.1)\n",
        "p.fit(X, y, epochs=20)\n",
        "\n",
        "# now that our perceptron is trained we can evaluate it\n",
        "print(\"[INFO] testing perceptron...\")\n",
        "\n",
        "# now that our network is trained, lopp over the data points\n",
        "for (x, target) in zip(X, y):\n",
        "    # make a prediction on the data point and display the result\n",
        "    pred = p.predict(x)\n",
        "    print(\"[INFO] data={}, ground-truth={}, pred={}\".format(x, target[0], pred))\n",
        "\n",
        "# now optimize the weights and train the network\n",
        "p.train(X, y, epochs=20)\n",
        "# this part is just a repetition of the previous part\n",
        "print(\"\\nAFTER OPTIMIZATION:\")\n",
        "print(\"[INFO] training perceptron...\")\n",
        "p = Perceptron(X.shape[1], alpha=0.1)\n",
        "p.fit(X, y, epochs=20)\n",
        "print(\"[INFO] testing perceptron...\")\n",
        "for (x, target) in zip(X, y):\n",
        "    pred = p.predict(x)\n",
        "    print(\"[INFO] data={}, ground-truth={}, pred={}\".format(x, target[0], pred))"
      ],
      "metadata": {
        "colab": {
          "base_uri": "https://localhost:8080/"
        },
        "id": "SfULU_vR_TS6",
        "outputId": "6ceba26d-1884-4ead-aca4-b72635e51961"
      },
      "execution_count": 2,
      "outputs": [
        {
          "output_type": "stream",
          "name": "stdout",
          "text": [
            "BEFORE OPTIMIZATION:\n",
            "[INFO] training perceptron...\n",
            "[INFO] testing perceptron...\n",
            "[INFO] data=[0 0], ground-truth=0, pred=0\n",
            "[INFO] data=[0 1], ground-truth=1, pred=1\n",
            "[INFO] data=[1 0], ground-truth=1, pred=1\n",
            "[INFO] data=[1 1], ground-truth=1, pred=1\n",
            "\n",
            "AFTER OPTIMIZATION:\n",
            "[INFO] training perceptron...\n",
            "[INFO] testing perceptron...\n",
            "[INFO] data=[0 0], ground-truth=0, pred=0\n",
            "[INFO] data=[0 1], ground-truth=1, pred=1\n",
            "[INFO] data=[1 0], ground-truth=1, pred=1\n",
            "[INFO] data=[1 1], ground-truth=1, pred=1\n"
          ]
        }
      ]
    },
    {
      "cell_type": "code",
      "source": [
        "#AND\n",
        "\n",
        "# import the necessary packages\n",
        "import numpy as np\n",
        "\n",
        "# construct the AND dataset\n",
        "X = np.array([[0,0],[0,1],[1,0],[1,1]])\n",
        "y = np.array([[0],[0],[0],[1]])\n",
        "\n",
        "print(\"BEFORE OPTIMIZATION:\")\n",
        "# define our perceptron and train it\n",
        "print(\"[INFO] training perceptron...\")\n",
        "p = Perceptron(X.shape[1], alpha=0.1)\n",
        "p.fit(X, y, epochs=20)\n",
        "\n",
        "# now that our perceptron is trained we can evaluate it\n",
        "print(\"[INFO] testing perceptron...\")\n",
        "\n",
        "# now that our network is trained, loop over the data points\n",
        "for(x, target) in zip(X, y):\n",
        "    # make a prediction on the data point and display the result\n",
        "    pred = p.predict(x)\n",
        "    print(\"[INFO] data={}, ground-truth={}, pred={}\".format(x, target[0], pred))\n",
        "\n",
        "# now optimize the weights and train the network\n",
        "p.train(X, y, epochs=20)\n",
        "# this part is just a repetition of the previous part\n",
        "print(\"\\nAFTER OPTIMIZATION:\")\n",
        "print(\"[INFO] training perceptron...\")\n",
        "p = Perceptron(X.shape[1], alpha=0.1)\n",
        "p.fit(X, y, epochs=20)\n",
        "print(\"[INFO] testing perceptron...\")\n",
        "for(x, target) in zip(X, y):\n",
        "    pred = p.predict(x)\n",
        "    print(\"[INFO] data={}, ground-truth={}, pred={}\".format(x, target[0], pred))"
      ],
      "metadata": {
        "colab": {
          "base_uri": "https://localhost:8080/"
        },
        "id": "tpu31Zgz_WxZ",
        "outputId": "332ec3cb-a85e-4ab9-efc8-2860aefc2285"
      },
      "execution_count": 3,
      "outputs": [
        {
          "output_type": "stream",
          "name": "stdout",
          "text": [
            "BEFORE OPTIMIZATION:\n",
            "[INFO] training perceptron...\n",
            "[INFO] testing perceptron...\n",
            "[INFO] data=[0 0], ground-truth=0, pred=0\n",
            "[INFO] data=[0 1], ground-truth=0, pred=0\n",
            "[INFO] data=[1 0], ground-truth=0, pred=0\n",
            "[INFO] data=[1 1], ground-truth=1, pred=1\n",
            "\n",
            "AFTER OPTIMIZATION:\n",
            "[INFO] training perceptron...\n",
            "[INFO] testing perceptron...\n",
            "[INFO] data=[0 0], ground-truth=0, pred=0\n",
            "[INFO] data=[0 1], ground-truth=0, pred=0\n",
            "[INFO] data=[1 0], ground-truth=0, pred=0\n",
            "[INFO] data=[1 1], ground-truth=1, pred=1\n"
          ]
        }
      ]
    },
    {
      "cell_type": "code",
      "source": [
        "# XOR\n",
        "\n",
        "# import the necessary packages\n",
        "import numpy as np\n",
        "\n",
        "# contruct the XOR dataset\n",
        "X = np.array([[0,0],[0,1],[1,0],[1,1]])\n",
        "y = np.array([[0],[1],[1],[0]])\n",
        "\n",
        "print(\"BEFORE OPTIMIZATION:\")\n",
        "# define our perceptron and train it\n",
        "print(\"[INFO] training preceptron...\")\n",
        "p = Perceptron(X.shape[1], alpha=0.1)\n",
        "p.fit(X, y, epochs=20)\n",
        "\n",
        "# now that our perceptron is trained we can evaluate it\n",
        "print(\"[INFO] testing perceptron...\")\n",
        "\n",
        "# now that our network is trained, loop over the data points\n",
        "for(x, target) in zip(X, y):\n",
        "    # make a prediction on the data point and display the result\n",
        "    pred = p.predict(x)\n",
        "    print(\"[INFO] data={}, ground-truth{}, pred={}\".format(x, target[0], pred))\n",
        "\n",
        "# now optimize the weights and train the network\n",
        "p.train(X, y, epochs=20)\n",
        "# this part is just a repetition of the previous part\n",
        "print(\"\\nAFTER OPTIMIZATION:\")\n",
        "print(\"[INFO] training preceptron...\")\n",
        "p = Perceptron(X.shape[1], alpha=0.1)\n",
        "p.fit(X, y, epochs=20)\n",
        "print(\"[INFO] testing perceptron...\")\n",
        "for(x, target) in zip(X, y):\n",
        "    pred = p.predict(x)\n",
        "    print(\"[INFO] data={}, ground-truth{}, pred={}\".format(x, target[0], pred))"
      ],
      "metadata": {
        "colab": {
          "base_uri": "https://localhost:8080/"
        },
        "id": "2A2gOS1D_azb",
        "outputId": "b9595a32-82ac-40aa-f479-9e7579e3f213"
      },
      "execution_count": 4,
      "outputs": [
        {
          "output_type": "stream",
          "name": "stdout",
          "text": [
            "BEFORE OPTIMIZATION:\n",
            "[INFO] training preceptron...\n",
            "[INFO] testing perceptron...\n",
            "[INFO] data=[0 0], ground-truth0, pred=1\n",
            "[INFO] data=[0 1], ground-truth1, pred=1\n",
            "[INFO] data=[1 0], ground-truth1, pred=0\n",
            "[INFO] data=[1 1], ground-truth0, pred=0\n",
            "\n",
            "AFTER OPTIMIZATION:\n",
            "[INFO] training preceptron...\n",
            "[INFO] testing perceptron...\n",
            "[INFO] data=[0 0], ground-truth0, pred=1\n",
            "[INFO] data=[0 1], ground-truth1, pred=1\n",
            "[INFO] data=[1 0], ground-truth1, pred=0\n",
            "[INFO] data=[1 1], ground-truth0, pred=0\n"
          ]
        }
      ]
    },
    {
      "cell_type": "code",
      "source": [
        "# NAND\n",
        "\n",
        "# import the necessary packages\n",
        "import numpy as np\n",
        "\n",
        "#construct the NAND dataset\n",
        "X = np.array([[0,0],[0,1],[1,0],[1,1]])\n",
        "y = np.array([[1],[1],[1],[0]])\n",
        "\n",
        "print(\"BEFORE OPTIMIZATION:\")\n",
        "# define our perceptron and train it\n",
        "print(\"[INFO] training preceptron...\")\n",
        "p = Perceptron(X.shape[1], alpha=0.1)\n",
        "p.fit(X, y, epochs=20)\n",
        "\n",
        "# now that our perceptron is trained we can evaluate it\n",
        "print(\"[INFO] testing perceptron...\")\n",
        "\n",
        "# now that our network is trained, loop over the data points\n",
        "for(x, target) in zip(X, y):\n",
        "    # make a prediction on the data point and display the result\n",
        "    pred = p.predict(x)\n",
        "    print(\"[INFO] data={}, ground-truth{}, pred={}\".format(x, target[0], pred))\n",
        "\n",
        "# now optimize the weights and train the network\n",
        "p.train(X, y, epochs=20)\n",
        "\n",
        "print(\"\\nAFTER OPTIMIZATION:\")\n",
        "# this part is just a repetition of the previous part\n",
        "print(\"[INFO] training preceptron...\")\n",
        "p = Perceptron(X.shape[1], alpha=0.1)\n",
        "p.fit(X, y, epochs=20)\n",
        "print(\"[INFO] testing perceptron...\")\n",
        "for(x, target) in zip(X, y):\n",
        "    pred = p.predict(x)\n",
        "    print(\"[INFO] data={}, ground-truth{}, pred={}\".format(x, target[0], pred))"
      ],
      "metadata": {
        "colab": {
          "base_uri": "https://localhost:8080/"
        },
        "id": "QBp6vsU__eHR",
        "outputId": "118c0277-9040-496a-efe0-2043c14efeec"
      },
      "execution_count": 5,
      "outputs": [
        {
          "output_type": "stream",
          "name": "stdout",
          "text": [
            "BEFORE OPTIMIZATION:\n",
            "[INFO] training preceptron...\n",
            "[INFO] testing perceptron...\n",
            "[INFO] data=[0 0], ground-truth1, pred=1\n",
            "[INFO] data=[0 1], ground-truth1, pred=1\n",
            "[INFO] data=[1 0], ground-truth1, pred=1\n",
            "[INFO] data=[1 1], ground-truth0, pred=0\n",
            "\n",
            "AFTER OPTIMIZATION:\n",
            "[INFO] training preceptron...\n",
            "[INFO] testing perceptron...\n",
            "[INFO] data=[0 0], ground-truth1, pred=1\n",
            "[INFO] data=[0 1], ground-truth1, pred=1\n",
            "[INFO] data=[1 0], ground-truth1, pred=1\n",
            "[INFO] data=[1 1], ground-truth0, pred=0\n"
          ]
        }
      ]
    }
  ]
}